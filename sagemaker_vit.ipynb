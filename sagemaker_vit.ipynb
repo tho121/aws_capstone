{
 "cells": [
  {
   "cell_type": "code",
   "execution_count": 1,
   "metadata": {},
   "outputs": [
    {
     "name": "stderr",
     "output_type": "stream",
     "text": [
      "/home/tho121/udacity_aws/venv/lib/python3.8/site-packages/tqdm/auto.py:22: TqdmWarning: IProgress not found. Please update jupyter and ipywidgets. See https://ipywidgets.readthedocs.io/en/stable/user_install.html\n",
      "  from .autonotebook import tqdm as notebook_tqdm\n"
     ]
    }
   ],
   "source": [
    "import sagemaker\n",
    "import numpy as np\n",
    "import torch\n",
    "import torchvision\n",
    "import os\n",
    "import json\n",
    "import boto3\n",
    "from sagemaker.tuner import CategoricalParameter, ContinuousParameter, HyperparameterTuner\n",
    "from sagemaker.pytorch import PyTorch"
   ]
  },
  {
   "cell_type": "code",
   "execution_count": 2,
   "metadata": {},
   "outputs": [
    {
     "name": "stderr",
     "output_type": "stream",
     "text": [
      "Couldn't call 'get_role' to get Role ARN from role name Tony to get Role path.\n"
     ]
    }
   ],
   "source": [
    "from sagemaker import get_execution_role\n",
    "\n",
    "try:\n",
    "    role = sagemaker.get_execution_role()\n",
    "except ValueError:\n",
    "    iam = boto3.client('iam')\n",
    "    role = iam.get_role(RoleName='SagemakerFullAccess')['Role']['Arn']"
   ]
  },
  {
   "cell_type": "code",
   "execution_count": 69,
   "metadata": {},
   "outputs": [],
   "source": [
    "from sagemaker.huggingface import HuggingFace\n",
    "\n",
    "train_dir = 's3://awscapstone/train_data'\n",
    "test_dir = 's3://awscapstone/test_data'\n",
    "\n",
    "# hyperparameters, which are passed into the training job\n",
    "hyperparameters={'num_train_epochs': 5, # train epochs\n",
    "                 'learning_rate': 2e-5,\n",
    "                 'per_device_train_batch_size': 64, # batch sizes\n",
    "                 'per_device_eval_batch_size': 64, # batch size\n",
    "                 'dataloader_workers': 4,\n",
    "                 'model_name': \"google/vit-base-patch16-224-in21k\", # model which will be trained on\n",
    "                 }"
   ]
  },
  {
   "cell_type": "code",
   "execution_count": 46,
   "metadata": {},
   "outputs": [],
   "source": [
    "distribution = {'smdistributed':{'dataparallel':{ 'enabled': True }}}"
   ]
  },
  {
   "cell_type": "code",
   "execution_count": 54,
   "metadata": {},
   "outputs": [
    {
     "name": "stdout",
     "output_type": "stream",
     "text": [
      "Checkpointing Path: s3://awscapstone/checkpoint-vit-77e25880\n"
     ]
    }
   ],
   "source": [
    "import uuid\n",
    "bucket = \"awscapstone\"#sagemaker.Session().default_bucket()\n",
    "prefix = 'vit'\n",
    "\n",
    "checkpoint_suffix = str(uuid.uuid4())[:8]\n",
    "checkpoint_s3_path = 's3://{}/checkpoint-{}-{}'.format(bucket,prefix,checkpoint_suffix)\n",
    "checkpoint_local_path='/opt/ml/checkpoints'\n",
    "\n",
    "print('Checkpointing Path: {}'.format(checkpoint_s3_path))\n",
    "\n",
    "use_spot_instances = True\n",
    "max_run = 60*60*5    #1+ hour \n",
    "max_wait = 60*60*24 if use_spot_instances else None"
   ]
  },
  {
   "cell_type": "code",
   "execution_count": 70,
   "metadata": {},
   "outputs": [],
   "source": [
    "\n",
    "\n",
    "vit_estimator = HuggingFace(entry_point='train_vit_hf.py',\n",
    "                    base_job_name='capstone-vit',\n",
    "                    instance_type='ml.p3.2xlarge',\n",
    "                    instance_count=1,\n",
    "                    role=role,\n",
    "                    #transformers_version='4.17',\n",
    "                    #pytorch_version='1.10',\n",
    "                    py_version='py38',\n",
    "                    #distribution=distribution,\n",
    "                    image_uri='149633813601.dkr.ecr.us-east-1.amazonaws.com/dockercontainers:latest',\n",
    "                    hyperparameters=hyperparameters,\n",
    "                    #use_spot_instances=use_spot_instances,\n",
    "                    #max_run=max_run,\n",
    "                    #max_wait=max_wait,\n",
    "                    #checkpoint_s3_uri=checkpoint_s3_path\n",
    "                    )\n",
    "\n"
   ]
  },
  {
   "cell_type": "code",
   "execution_count": null,
   "metadata": {},
   "outputs": [],
   "source": [
    "\n",
    "vit_estimator.fit({\"train\": train_dir, \"test\": test_dir}, wait=True)"
   ]
  }
 ],
 "metadata": {
  "kernelspec": {
   "display_name": "venv",
   "language": "python",
   "name": "python3"
  },
  "language_info": {
   "codemirror_mode": {
    "name": "ipython",
    "version": 3
   },
   "file_extension": ".py",
   "mimetype": "text/x-python",
   "name": "python",
   "nbconvert_exporter": "python",
   "pygments_lexer": "ipython3",
   "version": "3.8.10"
  },
  "orig_nbformat": 4,
  "vscode": {
   "interpreter": {
    "hash": "3b9a16027b1face11683377a0f72853ed9096586e91733d0ba9340678d80f683"
   }
  }
 },
 "nbformat": 4,
 "nbformat_minor": 2
}
